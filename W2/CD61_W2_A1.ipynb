{
  "nbformat": 4,
  "nbformat_minor": 0,
  "metadata": {
    "colab": {
      "provenance": []
    },
    "kernelspec": {
      "name": "python3",
      "display_name": "Python 3"
    },
    "language_info": {
      "name": "python"
    }
  },
  "cells": [
    {
      "cell_type": "code",
      "execution_count": 1,
      "metadata": {
        "id": "tJEKJOAeZJxV"
      },
      "outputs": [],
      "source": [
        "import math\n",
        "from sklearn.feature_extraction.text import CountVectorizer, TfidfVectorizer\n",
        "import pandas as pd"
      ]
    },
    {
      "cell_type": "code",
      "source": [
        "corpus = [\n",
        "    'the sun is a star',\n",
        "    'the moon is a satellite',\n",
        "    'the sun and moon are celestial bodies'\n",
        "]"
      ],
      "metadata": {
        "id": "lbgmJ1csZSAj"
      },
      "execution_count": 2,
      "outputs": []
    },
    {
      "cell_type": "code",
      "source": [
        "docs = [doc.lower().split() for doc in corpus]\n",
        "vocab = sorted(set(word for doc in docs for word in doc))"
      ],
      "metadata": {
        "id": "5n22LNJBZWvt"
      },
      "execution_count": 3,
      "outputs": []
    },
    {
      "cell_type": "code",
      "source": [
        "tf = []\n",
        "for doc in docs:\n",
        "    word_count = {word: doc.count(word) for word in vocab}\n",
        "    doc_len = len(doc)\n",
        "    tf.append({word: count / doc_len for word, count in word_count.items()})"
      ],
      "metadata": {
        "id": "QzU9sKXxZd5d"
      },
      "execution_count": 4,
      "outputs": []
    },
    {
      "cell_type": "code",
      "source": [
        "df = {word: sum(word in doc for doc in docs) for word in vocab}\n",
        "\n",
        "N = len(corpus)\n",
        "idf = {word: math.log(N / df[word]) for word in vocab}"
      ],
      "metadata": {
        "id": "VUR0Zrb4ZhF6"
      },
      "execution_count": 6,
      "outputs": []
    },
    {
      "cell_type": "code",
      "source": [
        "manual_tfidf = []\n",
        "for doc_tf in tf:\n",
        "    tfidf_doc = {word: doc_tf[word] * idf[word] for word in vocab}\n",
        "    manual_tfidf.append(tfidf_doc)\n",
        "\n",
        "manual_df = pd.DataFrame(manual_tfidf).round(3)\n",
        "print(\"Manual TF-IDF:\\n\", manual_df)"
      ],
      "metadata": {
        "colab": {
          "base_uri": "https://localhost:8080/"
        },
        "id": "bPChV2fkZizI",
        "outputId": "f2e873a3-8e8a-4edf-896d-2b81435500cc"
      },
      "execution_count": 7,
      "outputs": [
        {
          "output_type": "stream",
          "name": "stdout",
          "text": [
            "Manual TF-IDF:\n",
            "        a    and    are  bodies  celestial     is   moon  satellite  star  \\\n",
            "0  0.081  0.000  0.000   0.000      0.000  0.081  0.000       0.00  0.22   \n",
            "1  0.081  0.000  0.000   0.000      0.000  0.081  0.081       0.22  0.00   \n",
            "2  0.000  0.157  0.157   0.157      0.157  0.000  0.058       0.00  0.00   \n",
            "\n",
            "     sun  the  \n",
            "0  0.081  0.0  \n",
            "1  0.000  0.0  \n",
            "2  0.058  0.0  \n"
          ]
        }
      ]
    },
    {
      "cell_type": "code",
      "source": [
        "count_vec = CountVectorizer()\n",
        "count_matrix = count_vec.fit_transform(corpus)\n",
        "count_df = pd.DataFrame(count_matrix.toarray(), columns=count_vec.get_feature_names_out())\n",
        "print(\"\\nCountVectorizer:\\n\", count_df)"
      ],
      "metadata": {
        "colab": {
          "base_uri": "https://localhost:8080/"
        },
        "id": "qNJ0R-ByZoMp",
        "outputId": "421c9137-0cdb-4e5b-8948-52a1fe870a51"
      },
      "execution_count": 8,
      "outputs": [
        {
          "output_type": "stream",
          "name": "stdout",
          "text": [
            "\n",
            "CountVectorizer:\n",
            "    and  are  bodies  celestial  is  moon  satellite  star  sun  the\n",
            "0    0    0       0          0   1     0          0     1    1    1\n",
            "1    0    0       0          0   1     1          1     0    0    1\n",
            "2    1    1       1          1   0     1          0     0    1    1\n"
          ]
        }
      ]
    },
    {
      "cell_type": "code",
      "source": [
        "tfidf_vec = TfidfVectorizer()\n",
        "tfidf_matrix = tfidf_vec.fit_transform(corpus)\n",
        "tfidf_df = pd.DataFrame(tfidf_matrix.toarray(), columns=tfidf_vec.get_feature_names_out()).round(3)\n",
        "print(\"\\nTfidfVectorizer:\\n\", tfidf_df)"
      ],
      "metadata": {
        "colab": {
          "base_uri": "https://localhost:8080/"
        },
        "id": "gm7ouy3NZwvA",
        "outputId": "a0aca3be-0e0c-44b4-ec7c-7bba998a9081"
      },
      "execution_count": 9,
      "outputs": [
        {
          "output_type": "stream",
          "name": "stdout",
          "text": [
            "\n",
            "TfidfVectorizer:\n",
            "      and    are  bodies  celestial    is   moon  satellite   star    sun  \\\n",
            "0  0.000  0.000   0.000      0.000  0.48  0.000      0.000  0.632  0.480   \n",
            "1  0.000  0.000   0.000      0.000  0.48  0.480      0.632  0.000  0.000   \n",
            "2  0.426  0.426   0.426      0.426  0.00  0.324      0.000  0.000  0.324   \n",
            "\n",
            "     the  \n",
            "0  0.373  \n",
            "1  0.373  \n",
            "2  0.252  \n"
          ]
        }
      ]
    },
    {
      "cell_type": "code",
      "source": [],
      "metadata": {
        "id": "RjVUpDoTZxJs"
      },
      "execution_count": null,
      "outputs": []
    }
  ]
}